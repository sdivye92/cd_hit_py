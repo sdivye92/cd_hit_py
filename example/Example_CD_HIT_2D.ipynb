{
 "cells": [
  {
   "cell_type": "markdown",
   "metadata": {},
   "source": [
    "<b>NOTE:</b> Please run these commands from within the cd_hit_py root folder"
   ]
  },
  {
   "cell_type": "code",
   "execution_count": 8,
   "metadata": {},
   "outputs": [],
   "source": [
    "import pandas as pd\n",
    "from cd_hit import CD_HIT_2D"
   ]
  },
  {
   "cell_type": "markdown",
   "metadata": {},
   "source": [
    "### filter sequence from db2 which are not similar to sequences in db1 and export result to a fasta file"
   ]
  },
  {
   "cell_type": "code",
   "execution_count": 12,
   "metadata": {},
   "outputs": [],
   "source": [
    "cdh2d = CD_HIT_2D(word_length=3)"
   ]
  },
  {
   "cell_type": "code",
   "execution_count": 10,
   "metadata": {},
   "outputs": [],
   "source": [
    "db1 = \"test_seq.fasta\"\n",
    "db2 = \"test_seq2.fasta\"\n",
    "out_file = \"cdhit_2d_filtered.fasta\""
   ]
  },
  {
   "cell_type": "code",
   "execution_count": 13,
   "metadata": {},
   "outputs": [
    {
     "name": "stdout",
     "output_type": "stream",
     "text": [
      "/Users/in-divye.singh/anaconda3/envs/life-science/bin/cd-hit-2d -i test/test_seq.fasta -i2 test/test_seq2.fasta -o test/cdhit_2d_filtered.fasta -c 0.7 -G 1 -b 20 -M 400 -n 3 -l 10 -t 2 -d 20 -s 0.0 -s2 1.0 -S 999999 -S2 0 -aL 0.0 -AL 99999999 -aS 0.0 -AS 99999999 -B 0 -p 0 -T 1 -g 0\n"
     ]
    }
   ],
   "source": [
    "cdh2d.from_file(db1, db2, out_file, threshold=0.7)"
   ]
  },
  {
   "cell_type": "markdown",
   "metadata": {},
   "source": [
    "### filter sequence from seq_list2 which are not similar to sequences in seq_list1"
   ]
  },
  {
   "cell_type": "code",
   "execution_count": 14,
   "metadata": {},
   "outputs": [],
   "source": [
    "inp1 = pd.read_csv(\"test_seq.csv\")\n",
    "inp2 = pd.read_csv(\"test_seq2.csv\")"
   ]
  },
  {
   "cell_type": "code",
   "execution_count": 19,
   "metadata": {},
   "outputs": [
    {
     "data": {
      "text/html": [
       "<div>\n",
       "<style scoped>\n",
       "    .dataframe tbody tr th:only-of-type {\n",
       "        vertical-align: middle;\n",
       "    }\n",
       "\n",
       "    .dataframe tbody tr th {\n",
       "        vertical-align: top;\n",
       "    }\n",
       "\n",
       "    .dataframe thead th {\n",
       "        text-align: right;\n",
       "    }\n",
       "</style>\n",
       "<table border=\"1\" class=\"dataframe\">\n",
       "  <thead>\n",
       "    <tr style=\"text-align: right;\">\n",
       "      <th></th>\n",
       "      <th>Header</th>\n",
       "      <th>Sequence</th>\n",
       "    </tr>\n",
       "  </thead>\n",
       "  <tbody>\n",
       "    <tr>\n",
       "      <th>0</th>\n",
       "      <td>AP00034</td>\n",
       "      <td>WNPFKELERAGQRVRDAVISAAAVATVGQAAAIARG</td>\n",
       "    </tr>\n",
       "    <tr>\n",
       "      <th>1</th>\n",
       "      <td>AP00036</td>\n",
       "      <td>DFASCHTNGGICLPNRCPGHMIQIGICFRPRVKCCRSW</td>\n",
       "    </tr>\n",
       "    <tr>\n",
       "      <th>2</th>\n",
       "      <td>AP00037</td>\n",
       "      <td>VRNHVTCRINRGFCVPIRCPGRTRQIGTCFGPRIKCCRSW</td>\n",
       "    </tr>\n",
       "    <tr>\n",
       "      <th>3</th>\n",
       "      <td>AP00038</td>\n",
       "      <td>QGVRNHVTCRINRGFCVPIRCPGRTRQIGTCFGPRIKCCRSW</td>\n",
       "    </tr>\n",
       "    <tr>\n",
       "      <th>4</th>\n",
       "      <td>AP00039</td>\n",
       "      <td>QRVRNPQSCRWNMGVCIPFLCRVGMRQIGTCFGPRVPCCRR</td>\n",
       "    </tr>\n",
       "    <tr>\n",
       "      <th>5</th>\n",
       "      <td>AP00040</td>\n",
       "      <td>QVVRNPQSCRWNMGVCIPISCPGNMRQIGTCFGPRVPCCRRW</td>\n",
       "    </tr>\n",
       "    <tr>\n",
       "      <th>6</th>\n",
       "      <td>AP00041</td>\n",
       "      <td>QGVRNHVTCRIYGGFCVPIRCPGRTRQIGTCFGRPVKCCRRW</td>\n",
       "    </tr>\n",
       "    <tr>\n",
       "      <th>7</th>\n",
       "      <td>AP00042</td>\n",
       "      <td>QGVRNFVTCRINRGFCVPIRCPGHRRQIGTCLGPRIKCCR</td>\n",
       "    </tr>\n",
       "    <tr>\n",
       "      <th>8</th>\n",
       "      <td>AP00043</td>\n",
       "      <td>VRNFVTCRINRGFCVPIRCPGHRRQIGTCLGPQIKCCR</td>\n",
       "    </tr>\n",
       "    <tr>\n",
       "      <th>9</th>\n",
       "      <td>AP00044</td>\n",
       "      <td>QGVRNFVTCRINRGFCVPIRCPGHRRQIGTCLAPQIKCCR</td>\n",
       "    </tr>\n",
       "    <tr>\n",
       "      <th>10</th>\n",
       "      <td>AP00045</td>\n",
       "      <td>QGVRSYLSCWGNRGICLLNRCPGRMRQIGTCLAPRVKCCR</td>\n",
       "    </tr>\n",
       "    <tr>\n",
       "      <th>11</th>\n",
       "      <td>AP00046</td>\n",
       "      <td>GPLSCRRNGGVCIPIRCPGPMRQIGTCFGRPVKCCRSW</td>\n",
       "    </tr>\n",
       "    <tr>\n",
       "      <th>12</th>\n",
       "      <td>AP00047</td>\n",
       "      <td>GPLSCGRNGGVCIPIRCPVPMRQIGTCFGRPVKCCRSW</td>\n",
       "    </tr>\n",
       "    <tr>\n",
       "      <th>13</th>\n",
       "      <td>AP00048</td>\n",
       "      <td>SGISGPLSCGRNGGVCIPIRCPVPMRQIGTCFGRPVKCCRSW</td>\n",
       "    </tr>\n",
       "    <tr>\n",
       "      <th>14</th>\n",
       "      <td>AP00049</td>\n",
       "      <td>GIGALSAKGALKGLAKGLAEHFAN</td>\n",
       "    </tr>\n",
       "  </tbody>\n",
       "</table>\n",
       "</div>"
      ],
      "text/plain": [
       "     Header                                    Sequence\n",
       "0   AP00034        WNPFKELERAGQRVRDAVISAAAVATVGQAAAIARG\n",
       "1   AP00036      DFASCHTNGGICLPNRCPGHMIQIGICFRPRVKCCRSW\n",
       "2   AP00037    VRNHVTCRINRGFCVPIRCPGRTRQIGTCFGPRIKCCRSW\n",
       "3   AP00038  QGVRNHVTCRINRGFCVPIRCPGRTRQIGTCFGPRIKCCRSW\n",
       "4   AP00039   QRVRNPQSCRWNMGVCIPFLCRVGMRQIGTCFGPRVPCCRR\n",
       "5   AP00040  QVVRNPQSCRWNMGVCIPISCPGNMRQIGTCFGPRVPCCRRW\n",
       "6   AP00041  QGVRNHVTCRIYGGFCVPIRCPGRTRQIGTCFGRPVKCCRRW\n",
       "7   AP00042    QGVRNFVTCRINRGFCVPIRCPGHRRQIGTCLGPRIKCCR\n",
       "8   AP00043      VRNFVTCRINRGFCVPIRCPGHRRQIGTCLGPQIKCCR\n",
       "9   AP00044    QGVRNFVTCRINRGFCVPIRCPGHRRQIGTCLAPQIKCCR\n",
       "10  AP00045    QGVRSYLSCWGNRGICLLNRCPGRMRQIGTCLAPRVKCCR\n",
       "11  AP00046      GPLSCRRNGGVCIPIRCPGPMRQIGTCFGRPVKCCRSW\n",
       "12  AP00047      GPLSCGRNGGVCIPIRCPVPMRQIGTCFGRPVKCCRSW\n",
       "13  AP00048  SGISGPLSCGRNGGVCIPIRCPVPMRQIGTCFGRPVKCCRSW\n",
       "14  AP00049                    GIGALSAKGALKGLAKGLAEHFAN"
      ]
     },
     "execution_count": 19,
     "metadata": {},
     "output_type": "execute_result"
    }
   ],
   "source": [
    "inp1"
   ]
  },
  {
   "cell_type": "code",
   "execution_count": 20,
   "metadata": {},
   "outputs": [
    {
     "data": {
      "text/html": [
       "<div>\n",
       "<style scoped>\n",
       "    .dataframe tbody tr th:only-of-type {\n",
       "        vertical-align: middle;\n",
       "    }\n",
       "\n",
       "    .dataframe tbody tr th {\n",
       "        vertical-align: top;\n",
       "    }\n",
       "\n",
       "    .dataframe thead th {\n",
       "        text-align: right;\n",
       "    }\n",
       "</style>\n",
       "<table border=\"1\" class=\"dataframe\">\n",
       "  <thead>\n",
       "    <tr style=\"text-align: right;\">\n",
       "      <th></th>\n",
       "      <th>Header</th>\n",
       "      <th>Sequence</th>\n",
       "    </tr>\n",
       "  </thead>\n",
       "  <tbody>\n",
       "    <tr>\n",
       "      <th>0</th>\n",
       "      <td>AP00051</td>\n",
       "      <td>GIGSAILSAGKSALKGLAKGLAEHFAN</td>\n",
       "    </tr>\n",
       "    <tr>\n",
       "      <th>1</th>\n",
       "      <td>AP00052</td>\n",
       "      <td>GIGAAILSAGKSALKGLAKGLAEHF</td>\n",
       "    </tr>\n",
       "    <tr>\n",
       "      <th>2</th>\n",
       "      <td>AP00053</td>\n",
       "      <td>GIGAAILSAGKSIIKGLANGLAEHF</td>\n",
       "    </tr>\n",
       "    <tr>\n",
       "      <th>3</th>\n",
       "      <td>AP00054</td>\n",
       "      <td>GIGGALLSAGKSALKGLAKGLAEHFAN</td>\n",
       "    </tr>\n",
       "    <tr>\n",
       "      <th>4</th>\n",
       "      <td>AP00045</td>\n",
       "      <td>QGVRSYLSCWGNRGICLLNRCPGRMRQIGTCLAPRVKCCR</td>\n",
       "    </tr>\n",
       "    <tr>\n",
       "      <th>5</th>\n",
       "      <td>AP00046</td>\n",
       "      <td>GPLSCRRNGGVCIPIRCPGPMRQIGTCFGRPVKCCRSW</td>\n",
       "    </tr>\n",
       "    <tr>\n",
       "      <th>6</th>\n",
       "      <td>AP00083</td>\n",
       "      <td>GILSLVKGVAKLAGKGLAKEGGKFGLELIACKIAKQC</td>\n",
       "    </tr>\n",
       "    <tr>\n",
       "      <th>7</th>\n",
       "      <td>AP00084</td>\n",
       "      <td>GIFSLVKGAAKLAGKGLAKEGGKFGLELIACKIAKQC</td>\n",
       "    </tr>\n",
       "    <tr>\n",
       "      <th>8</th>\n",
       "      <td>AP00085</td>\n",
       "      <td>SLFSLIKAGAKFLGKNLLKQGACYAACKASKQC</td>\n",
       "    </tr>\n",
       "    <tr>\n",
       "      <th>9</th>\n",
       "      <td>AP00086</td>\n",
       "      <td>GIMSIVKDVAKNAAKEAAKGALSTLSCKLAKTC</td>\n",
       "    </tr>\n",
       "    <tr>\n",
       "      <th>10</th>\n",
       "      <td>AP00087</td>\n",
       "      <td>GIMSIVKDVAKTAAKEAAKGALSTLSCKLAKTC</td>\n",
       "    </tr>\n",
       "  </tbody>\n",
       "</table>\n",
       "</div>"
      ],
      "text/plain": [
       "     Header                                  Sequence\n",
       "0   AP00051               GIGSAILSAGKSALKGLAKGLAEHFAN\n",
       "1   AP00052                 GIGAAILSAGKSALKGLAKGLAEHF\n",
       "2   AP00053                 GIGAAILSAGKSIIKGLANGLAEHF\n",
       "3   AP00054               GIGGALLSAGKSALKGLAKGLAEHFAN\n",
       "4   AP00045  QGVRSYLSCWGNRGICLLNRCPGRMRQIGTCLAPRVKCCR\n",
       "5   AP00046    GPLSCRRNGGVCIPIRCPGPMRQIGTCFGRPVKCCRSW\n",
       "6   AP00083     GILSLVKGVAKLAGKGLAKEGGKFGLELIACKIAKQC\n",
       "7   AP00084     GIFSLVKGAAKLAGKGLAKEGGKFGLELIACKIAKQC\n",
       "8   AP00085         SLFSLIKAGAKFLGKNLLKQGACYAACKASKQC\n",
       "9   AP00086         GIMSIVKDVAKNAAKEAAKGALSTLSCKLAKTC\n",
       "10  AP00087         GIMSIVKDVAKTAAKEAAKGALSTLSCKLAKTC"
      ]
     },
     "execution_count": 20,
     "metadata": {},
     "output_type": "execute_result"
    }
   ],
   "source": [
    "inp2"
   ]
  },
  {
   "cell_type": "code",
   "execution_count": 29,
   "metadata": {},
   "outputs": [],
   "source": [
    "seq_list1 = inp1.Sequence.to_list()\n",
    "header1 = inp1.Header.to_list()\n",
    "\n",
    "seq_list2 = inp2.Sequence.to_list()\n",
    "header2 = inp2.Header.to_list()"
   ]
  },
  {
   "cell_type": "code",
   "execution_count": 31,
   "metadata": {},
   "outputs": [
    {
     "name": "stdout",
     "output_type": "stream",
     "text": [
      "/Users/in-divye.singh/anaconda3/envs/life-science/bin/cd-hit-2d -i /var/folders/sz/zyss4sfs3fdb9rbb99x1ch480000gn/T/tmp2xo1hxt9 -i2 /var/folders/sz/zyss4sfs3fdb9rbb99x1ch480000gn/T/tmpp05jm9er -o /var/folders/sz/zyss4sfs3fdb9rbb99x1ch480000gn/T/tmpjyn76nio -c 0.5 -G 1 -b 20 -M 400 -n 3 -l 10 -t 2 -d 20 -s 0.0 -s2 1.0 -S 999999 -S2 0 -aL 0.0 -AL 99999999 -aS 0.0 -AS 99999999 -B 0 -p 0 -T 1 -g 0\n"
     ]
    }
   ],
   "source": [
    "filtered_header, filtered_seq = cdh2d.from_list(seq_list1, header1,\n",
    "                                                seq_list2, header2,\n",
    "                                                threshold=0.5)"
   ]
  },
  {
   "cell_type": "code",
   "execution_count": 32,
   "metadata": {},
   "outputs": [
    {
     "data": {
      "text/plain": [
       "['GIGSAILSAGKSALKGLAKGLAEHFAN',\n",
       " 'GIGAAILSAGKSALKGLAKGLAEHF',\n",
       " 'GIGAAILSAGKSIIKGLANGLAEHF',\n",
       " 'GIGGALLSAGKSALKGLAKGLAEHFAN',\n",
       " 'GILSLVKGVAKLAGKGLAKEGGKFGLELIACKIAKQC',\n",
       " 'GIFSLVKGAAKLAGKGLAKEGGKFGLELIACKIAKQC',\n",
       " 'SLFSLIKAGAKFLGKNLLKQGACYAACKASKQC',\n",
       " 'GIMSIVKDVAKNAAKEAAKGALSTLSCKLAKTC',\n",
       " 'GIMSIVKDVAKTAAKEAAKGALSTLSCKLAKTC']"
      ]
     },
     "execution_count": 32,
     "metadata": {},
     "output_type": "execute_result"
    }
   ],
   "source": [
    "filtered_seq"
   ]
  },
  {
   "cell_type": "markdown",
   "metadata": {},
   "source": [
    "### filter sequence from seq_list2 which are not similar to sequences in seq_list1 and export as fasta file"
   ]
  },
  {
   "cell_type": "code",
   "execution_count": 14,
   "metadata": {},
   "outputs": [],
   "source": [
    "inp1 = pd.read_csv(\"test_seq.csv\")\n",
    "inp2 = pd.read_csv(\"test_seq2.csv\")\n",
    "out_file = \"cdhit_2d_filtered.fasta\""
   ]
  },
  {
   "cell_type": "code",
   "execution_count": 33,
   "metadata": {},
   "outputs": [],
   "source": [
    "seq_list1 = inp1.Sequence.to_list()\n",
    "header1 = inp1.Header.to_list()\n",
    "\n",
    "seq_list2 = inp2.Sequence.to_list()\n",
    "header2 = inp2.Header.to_list()"
   ]
  },
  {
   "cell_type": "code",
   "execution_count": 21,
   "metadata": {},
   "outputs": [
    {
     "name": "stdout",
     "output_type": "stream",
     "text": [
      "/Users/in-divye.singh/anaconda3/envs/life-science/bin/cd-hit-2d -i /var/folders/sz/zyss4sfs3fdb9rbb99x1ch480000gn/T/tmp46dg5umu -i2 /var/folders/sz/zyss4sfs3fdb9rbb99x1ch480000gn/T/tmpsfnmiemg -o /var/folders/sz/zyss4sfs3fdb9rbb99x1ch480000gn/T/tmpohllyjid -c 0.7 -G 1 -b 20 -M 400 -n 3 -l 10 -t 2 -d 20 -s 0.0 -s2 1.0 -S 999999 -S2 0 -aL 0.0 -AL 99999999 -aS 0.0 -AS 99999999 -B 0 -p 0 -T 1 -g 0\n"
     ]
    }
   ],
   "source": [
    "filtered_header, filtered_seq = cdh2d.from_list(seq_list1, header1,\n",
    "                                                seq_list2, header2,\n",
    "                                                threshold=0.5, output_fasta_file = out_file)"
   ]
  },
  {
   "cell_type": "code",
   "execution_count": 22,
   "metadata": {},
   "outputs": [
    {
     "data": {
      "text/plain": [
       "['GIGSAILSAGKSALKGLAKGLAEHFAN',\n",
       " 'GIGAAILSAGKSALKGLAKGLAEHF',\n",
       " 'GIGAAILSAGKSIIKGLANGLAEHF',\n",
       " 'GIGGALLSAGKSALKGLAKGLAEHFAN',\n",
       " 'GILSLVKGVAKLAGKGLAKEGGKFGLELIACKIAKQC',\n",
       " 'GIFSLVKGAAKLAGKGLAKEGGKFGLELIACKIAKQC',\n",
       " 'SLFSLIKAGAKFLGKNLLKQGACYAACKASKQC',\n",
       " 'GIMSIVKDVAKNAAKEAAKGALSTLSCKLAKTC',\n",
       " 'GIMSIVKDVAKTAAKEAAKGALSTLSCKLAKTC']"
      ]
     },
     "execution_count": 22,
     "metadata": {},
     "output_type": "execute_result"
    }
   ],
   "source": [
    "filtered_seq"
   ]
  },
  {
   "cell_type": "markdown",
   "metadata": {},
   "source": [
    "#### If input files only has sequences, header list can be created as follows"
   ]
  },
  {
   "cell_type": "code",
   "execution_count": 23,
   "metadata": {},
   "outputs": [],
   "source": [
    "header1 = [\"seq\"+str(i) for i in range(len(inp1))]"
   ]
  },
  {
   "cell_type": "code",
   "execution_count": 25,
   "metadata": {},
   "outputs": [
    {
     "data": {
      "text/plain": [
       "['seq0',\n",
       " 'seq1',\n",
       " 'seq2',\n",
       " 'seq3',\n",
       " 'seq4',\n",
       " 'seq5',\n",
       " 'seq6',\n",
       " 'seq7',\n",
       " 'seq8',\n",
       " 'seq9',\n",
       " 'seq10',\n",
       " 'seq11',\n",
       " 'seq12',\n",
       " 'seq13',\n",
       " 'seq14']"
      ]
     },
     "execution_count": 25,
     "metadata": {},
     "output_type": "execute_result"
    }
   ],
   "source": [
    "header1"
   ]
  },
  {
   "cell_type": "code",
   "execution_count": 24,
   "metadata": {},
   "outputs": [],
   "source": [
    "header2 = [\"seq\"+str(i) for i in range(len(inp2))]"
   ]
  },
  {
   "cell_type": "code",
   "execution_count": 26,
   "metadata": {},
   "outputs": [
    {
     "data": {
      "text/plain": [
       "['seq0',\n",
       " 'seq1',\n",
       " 'seq2',\n",
       " 'seq3',\n",
       " 'seq4',\n",
       " 'seq5',\n",
       " 'seq6',\n",
       " 'seq7',\n",
       " 'seq8',\n",
       " 'seq9',\n",
       " 'seq10']"
      ]
     },
     "execution_count": 26,
     "metadata": {},
     "output_type": "execute_result"
    }
   ],
   "source": [
    "header2"
   ]
  },
  {
   "cell_type": "code",
   "execution_count": null,
   "metadata": {},
   "outputs": [],
   "source": []
  }
 ],
 "metadata": {
  "kernelspec": {
   "display_name": "Python 3",
   "language": "python",
   "name": "python3"
  },
  "language_info": {
   "codemirror_mode": {
    "name": "ipython",
    "version": 3
   },
   "file_extension": ".py",
   "mimetype": "text/x-python",
   "name": "python",
   "nbconvert_exporter": "python",
   "pygments_lexer": "ipython3",
   "version": "3.6.10"
  }
 },
 "nbformat": 4,
 "nbformat_minor": 4
}
